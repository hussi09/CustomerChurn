{
 "cells": [
  {
   "cell_type": "code",
   "execution_count": 51,
   "metadata": {},
   "outputs": [
    {
     "name": "stdout",
     "output_type": "stream",
     "text": [
      "Account_Length      int64\n",
      "Vmail_Message       int64\n",
      "Day_Mins          float64\n",
      "Eve_Mins          float64\n",
      "Night_Mins        float64\n",
      "Intl_Mins         float64\n",
      "CustServ_Calls      int64\n",
      "Churn              object\n",
      "Intl_Plan          object\n",
      "Vmail_Plan         object\n",
      "Day_Calls           int64\n",
      "Day_Charge        float64\n",
      "Eve_Calls           int64\n",
      "Eve_Charge        float64\n",
      "Night_Calls         int64\n",
      "Night_Charge      float64\n",
      "Intl_Calls          int64\n",
      "Intl_Charge       float64\n",
      "State              object\n",
      "Area_Code           int64\n",
      "Phone              object\n",
      "dtype: object\n"
     ]
    }
   ],
   "source": [
    "# Preprocessing for churn model.\n",
    "# it is preferable to have features like 'Churn' encoded as 0 and 1 instead of no and yes, \n",
    "#so that you can then feed it into machine learning algorithms that only accept numeric values.\n",
    "#Besides 'Churn', other features that are of type object can be converted into 0s and 1s\n",
    "pd.set_option('display.max_columns', 10)\n",
    "import pandas as pd\n",
    "import numpy as np\n",
    "import matplotlib.pyplot as plt\n",
    "telco = pd.read_csv('Churn.csv')\n",
    "print(telco.dtypes)"
   ]
  },
  {
   "cell_type": "code",
   "execution_count": 9,
   "metadata": {},
   "outputs": [
    {
     "name": "stdout",
     "output_type": "stream",
     "text": [
      "0    1\n",
      "1    1\n",
      "2    0\n",
      "3    0\n",
      "4    0\n",
      "Name: Vmail_Plan, dtype: int64\n",
      "0    0\n",
      "1    0\n",
      "2    0\n",
      "3    0\n",
      "4    0\n",
      "Name: Churn, dtype: int64\n"
     ]
    }
   ],
   "source": [
    "# Replace 'no' with 0 and 'yes' with 1 in 'Vmail_Plan'\n",
    "telco['Vmail_Plan'] = telco['Vmail_Plan'].replace({'no':0, 'yes':1})\n",
    "\n",
    "# Replace 'no' with 0 and 'yes' with 1 in 'Churn'\n",
    "telco['Churn'] = telco['Churn'].replace({'no':0, 'yes':1})\n",
    "\n",
    "# Print the results to verify\n",
    "print(telco['Vmail_Plan'].head())\n",
    "print(telco['Churn'].head())"
   ]
  },
  {
   "cell_type": "code",
   "execution_count": 16,
   "metadata": {
    "scrolled": true
   },
   "outputs": [
    {
     "name": "stdout",
     "output_type": "stream",
     "text": [
      "   AK  AL  AR  AZ  CA ...  VT  WA  WI  WV  WY\n",
      "0   0   0   0   0   0 ...   0   0   0   0   0\n",
      "1   0   0   0   0   0 ...   0   0   0   0   0\n",
      "2   0   0   0   0   0 ...   0   0   0   0   0\n",
      "3   0   0   0   0   0 ...   0   0   0   0   0\n",
      "4   0   0   0   0   0 ...   0   0   0   0   0\n",
      "\n",
      "[5 rows x 51 columns]\n"
     ]
    }
   ],
   "source": [
    "#Use the pd.get_dummies() function to apply one hot encoding on the 'State' feature of telco.\n",
    "telco_state = pd.get_dummies(telco['State'])\n",
    "print(telco_state.head())"
   ]
  },
  {
   "cell_type": "code",
   "execution_count": 23,
   "metadata": {
    "scrolled": true
   },
   "outputs": [
    {
     "name": "stdout",
     "output_type": "stream",
     "text": [
      "count    3333.000000\n",
      "mean        4.479448\n",
      "std         2.461214\n",
      "min         0.000000\n",
      "25%         3.000000\n",
      "50%         4.000000\n",
      "75%         6.000000\n",
      "max        20.000000\n",
      "Name: Intl_Calls, dtype: float64\n"
     ]
    }
   ],
   "source": [
    "print(telco['Intl_Calls'].describe())"
   ]
  },
  {
   "cell_type": "code",
   "execution_count": 52,
   "metadata": {},
   "outputs": [
    {
     "name": "stdout",
     "output_type": "stream",
     "text": [
      "         Intl_Calls    Night_Mins\n",
      "count  3.333000e+03  3.333000e+03\n",
      "mean  -1.264615e-16  6.602046e-17\n",
      "std    1.000150e+00  1.000150e+00\n",
      "min   -1.820289e+00 -3.513648e+00\n",
      "25%   -6.011951e-01 -6.698545e-01\n",
      "50%   -1.948306e-01  6.485803e-03\n",
      "75%    6.178983e-01  6.808485e-01\n",
      "max    6.307001e+00  3.839081e+00\n"
     ]
    }
   ],
   "source": [
    "#Feature scaling\n",
    "# Import StandardScaler\n",
    "from sklearn.preprocessing import StandardScaler\n",
    "telco1 =telco[['Intl_Calls', 'Night_Mins']]\n",
    "# scale telco using StandardScaler\n",
    "telco_scaled = StandardScaler().fit_transform(telco1)\n",
    "\n",
    "# Add column names back for readability\n",
    "telco_scaled_df = pd.DataFrame(telco_scaled, columns=[\"Intl_Calls\", \"Night_Mins\"])\n",
    "\n",
    "# Print summary statistics\n",
    "print(telco_scaled_df.describe())"
   ]
  },
  {
   "cell_type": "code",
   "execution_count": 54,
   "metadata": {},
   "outputs": [
    {
     "name": "stdout",
     "output_type": "stream",
     "text": [
      "Index(['Account_Length', 'Vmail_Message', 'Day_Mins', 'Eve_Mins', 'Night_Mins',\n",
      "       'Intl_Mins', 'CustServ_Calls', 'Churn', 'Intl_Plan', 'Vmail_Plan',\n",
      "       'Day_Calls', 'Day_Charge', 'Eve_Calls', 'Eve_Charge', 'Night_Calls',\n",
      "       'Night_Charge', 'Intl_Calls', 'Intl_Charge', 'State'],\n",
      "      dtype='object')\n"
     ]
    }
   ],
   "source": [
    "# Drop the unnecessary features\n",
    "telco = telco.drop(telco[['Area_Code','Phone']], axis=1)\n",
    "\n",
    "# Verify dropped features\n",
    "print(telco.columns)"
   ]
  },
  {
   "cell_type": "code",
   "execution_count": 55,
   "metadata": {},
   "outputs": [
    {
     "name": "stdout",
     "output_type": "stream",
     "text": [
      "0    2.689011\n",
      "1    2.469903\n",
      "2    1.563462\n",
      "3    2.212360\n",
      "4    1.544628\n",
      "Name: Avg_Night_Calls, dtype: float64\n"
     ]
    }
   ],
   "source": [
    "# Create the new feature\n",
    "telco['Avg_Night_Calls'] = telco['Night_Mins']/ telco['Night_Calls']\n",
    "\n",
    "# Print the first five rows of 'Avg_Night_Calls'\n",
    "print(telco['Avg_Night_Calls'].head())"
   ]
  },
  {
   "cell_type": "code",
   "execution_count": null,
   "metadata": {},
   "outputs": [],
   "source": []
  },
  {
   "cell_type": "code",
   "execution_count": null,
   "metadata": {},
   "outputs": [],
   "source": []
  }
 ],
 "metadata": {
  "kernelspec": {
   "display_name": "Python 3",
   "language": "python",
   "name": "python3"
  },
  "language_info": {
   "codemirror_mode": {
    "name": "ipython",
    "version": 3
   },
   "file_extension": ".py",
   "mimetype": "text/x-python",
   "name": "python",
   "nbconvert_exporter": "python",
   "pygments_lexer": "ipython3",
   "version": "3.6.5"
  }
 },
 "nbformat": 4,
 "nbformat_minor": 2
}
